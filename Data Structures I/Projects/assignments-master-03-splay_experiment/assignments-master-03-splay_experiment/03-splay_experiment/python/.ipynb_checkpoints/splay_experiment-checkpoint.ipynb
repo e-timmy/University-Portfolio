{
 "cells": [
  {
   "cell_type": "code",
   "execution_count": 18,
   "metadata": {},
   "outputs": [],
   "source": [
    "#!/usr/bin/env python3"
   ]
  },
  {
   "cell_type": "code",
   "execution_count": 19,
   "metadata": {},
   "outputs": [],
   "source": [
    "import sys\n",
    "import random"
   ]
  },
  {
   "cell_type": "code",
   "execution_count": 20,
   "metadata": {},
   "outputs": [],
   "source": [
    "from splay_operation import Tree\n",
    "\n",
    "naive = False"
   ]
  },
  {
   "cell_type": "code",
   "execution_count": 21,
   "metadata": {},
   "outputs": [],
   "source": [
    "class BenchmarkingTree(Tree):\n",
    "    \"\"\" A modified Splay tree for benchmarking.\n",
    "    We inherit the implementation of operations from the Tree class\n",
    "    and extend it by keeping statistics on the number of splay operations\n",
    "    and the total number of rotations. Also, if naive is turned on,\n",
    "    splay uses only single rotations.\n",
    "    \"\"\"\n",
    "    def __init__(self, naive=False):\n",
    "        Tree.__init__(self)\n",
    "        self.do_naive = naive\n",
    "        self.reset()\n",
    "    def reset(self):\n",
    "        \"\"\"Reset statistics.\"\"\"\n",
    "        self.num_rotations = 0;\n",
    "        self.num_operations = 0;\n",
    "    def rotate(self, node):\n",
    "        self.num_rotations += 1\n",
    "        Tree.rotate(self, node)\n",
    "    def splay(self, node):\n",
    "        self.num_operations += 1\n",
    "        if self.do_naive:\n",
    "            while node.parent is not None:\n",
    "                self.rotate(node)\n",
    "        else:\n",
    "            Tree.splay(self, node)\n",
    "    def rot_per_op(self):\n",
    "        \"\"\"Return the average number of rotations per operation.\"\"\"\n",
    "        if self.num_operations > 0:\n",
    "            return self.num_rotations / self.num_operations\n",
    "        else:\n",
    "            return 0"
   ]
  },
  {
   "cell_type": "code",
   "execution_count": 22,
   "metadata": {},
   "outputs": [],
   "source": [
    "def test_sequential():\n",
    "    for n in range(100, 3001, 100):\n",
    "        tree = BenchmarkingTree(naive)\n",
    "        for elem in range(n):\n",
    "            tree.insert(elem)\n",
    "        for _ in range(5):\n",
    "            for elem in range(n):\n",
    "                tree.lookup(elem)\n",
    "        print(n, tree.rot_per_op())"
   ]
  },
  {
   "cell_type": "code",
   "execution_count": 23,
   "metadata": {},
   "outputs": [],
   "source": [
    "def test_random():\n",
    "    for exp in range(32, 64):\n",
    "        n = int(2**(exp/4))\n",
    "        tree = BenchmarkingTree(naive)\n",
    "        for elem in random.sample(range(n), n):\n",
    "            tree.insert(elem)\n",
    "        for _ in range(5*n):\n",
    "            tree.lookup(random.randrange(n))\n",
    "        print(n, tree.rot_per_op())"
   ]
  },
  {
   "cell_type": "code",
   "execution_count": 24,
   "metadata": {},
   "outputs": [],
   "source": [
    "def make_progression(seq, A, B, s, inc):\n",
    "    \"\"\"An auxiliary function for constructing arithmetic progressions.\n",
    "    The array seq will be modified to contain an arithmetic progression\n",
    "    of elements in interval [A,B] starting from position s with step inc.\n",
    "    \"\"\"\n",
    "    for i in range(len(seq)):\n",
    "        while seq[i] >= A and seq[i] <= B and s + inc*(seq[i]-A) != i:\n",
    "            pos = s + inc*(seq[i]-A)\n",
    "            seq[i], seq[pos] = seq[pos], seq[i]"
   ]
  },
  {
   "cell_type": "code",
   "execution_count": 25,
   "metadata": {},
   "outputs": [],
   "source": [
    "def test_subset():\n",
    "    for sub in [10, 100, 1000]:\n",
    "        for exp in range(32,64):\n",
    "            n = int(2**(exp/4))\n",
    "            if n < sub:\n",
    "                continue\n",
    "\n",
    "            # We will insert elements in order, which contain several\n",
    "            # arithmetic progressions interspersed with random elements.\n",
    "            seq = random.sample(range(n), n)\n",
    "            make_progression(seq, n//4, n//4 + n//20, n//10, 1)\n",
    "            make_progression(seq, n//2, n//2 + n//20, n//10, -1)\n",
    "            make_progression(seq, 3*n//4, 3*n//4 + n//20, n//2, -4)\n",
    "            make_progression(seq, 17*n//20, 17*n//20 + n//20, 2*n//5, 5)\n",
    "            tree = BenchmarkingTree(naive)\n",
    "            for elem in seq:\n",
    "                tree.insert(elem)\n",
    "            tree.reset()\n",
    "            for _ in range(10000):\n",
    "                tree.lookup(seq[random.randrange(sub)])\n",
    "            print(sub, n, tree.rot_per_op())"
   ]
  },
  {
   "cell_type": "code",
   "execution_count": 26,
   "metadata": {},
   "outputs": [],
   "source": [
    "tests = {\n",
    "    \"sequential\": test_sequential,\n",
    "    \"random\": test_random,\n",
    "    \"subset\": test_subset,\n",
    "}"
   ]
  },
  {
   "cell_type": "code",
   "execution_count": 27,
   "metadata": {},
   "outputs": [],
   "source": [
    "def run_experiment(test, sid, implementation):\n",
    "    test, student_id = test, sid\n",
    "    if implementation == \"std\":\n",
    "        naive = False\n",
    "    elif implementation == \"naive\":\n",
    "        naive = True\n",
    "    else:\n",
    "        raise ValueError(\"Last argument must be either 'std' or 'naive'\")\n",
    "    random.seed(student_id)\n",
    "    if test in tests:\n",
    "        tests[test]()\n",
    "    else:\n",
    "        raise ValueError(\"Unknown test {}\".format(test))\n",
    "    raise ValueError(\"Usage: {} <test> <student-id> (std|naive)\".format(test))"
   ]
  },
  {
   "cell_type": "code",
   "execution_count": 28,
   "metadata": {},
   "outputs": [
    {
     "name": "stdout",
     "output_type": "stream",
     "text": [
      "100 3.637729549248748\n",
      "200 3.6688907422852375\n",
      "300 3.7515286270150083\n",
      "400 3.7761567319716547\n",
      "500 3.790930310103368\n",
      "600 3.8063350930814117\n",
      "700 3.798285306025244\n",
      "800 3.802667222337987\n",
      "900 3.8097795888127433\n",
      "1000 3.8121353558926487\n",
      "1100 3.83830883467192\n",
      "1200 3.826781497430199\n",
      "1300 3.829849980766765\n",
      "1400 3.8300988212882485\n",
      "1500 3.833648183131459\n",
      "1600 3.8252943014897385\n",
      "1700 3.8306696734974017\n",
      "1800 3.8298916566348735\n",
      "1900 3.8353364330204402\n",
      "2000 3.835236269689141\n",
      "2100 3.8303833637590285\n",
      "2200 3.8335479960603074\n",
      "2300 3.8349880426117835\n",
      "2400 3.835613584276686\n",
      "2500 3.8315221014734315\n",
      "2600 3.831591768703122\n",
      "2700 3.8365948515340453\n",
      "2800 3.8358830882790644\n",
      "2900 3.8375193976665325\n",
      "3000 3.8329351630646147\n"
     ]
    },
    {
     "ename": "ValueError",
     "evalue": "Usage: sequential <test> <student-id> (std|naive)",
     "output_type": "error",
     "traceback": [
      "\u001b[1;31m---------------------------------------------------------------------------\u001b[0m",
      "\u001b[1;31mValueError\u001b[0m                                Traceback (most recent call last)",
      "Input \u001b[1;32mIn [28]\u001b[0m, in \u001b[0;36m<cell line: 6>\u001b[1;34m()\u001b[0m\n\u001b[0;32m      3\u001b[0m sid \u001b[38;5;241m=\u001b[39m \u001b[38;5;241m73\u001b[39m\n\u001b[0;32m      4\u001b[0m implementation \u001b[38;5;241m=\u001b[39m \u001b[38;5;124m\"\u001b[39m\u001b[38;5;124mstd\u001b[39m\u001b[38;5;124m\"\u001b[39m\n\u001b[1;32m----> 6\u001b[0m \u001b[43mrun_experiment\u001b[49m\u001b[43m(\u001b[49m\u001b[43mtest\u001b[49m\u001b[43m,\u001b[49m\u001b[43m \u001b[49m\u001b[43msid\u001b[49m\u001b[43m,\u001b[49m\u001b[43m \u001b[49m\u001b[43mimplementation\u001b[49m\u001b[43m)\u001b[49m\n",
      "Input \u001b[1;32mIn [27]\u001b[0m, in \u001b[0;36mrun_experiment\u001b[1;34m(test, sid, implementation)\u001b[0m\n\u001b[0;32m     12\u001b[0m \u001b[38;5;28;01melse\u001b[39;00m:\n\u001b[0;32m     13\u001b[0m     \u001b[38;5;28;01mraise\u001b[39;00m \u001b[38;5;167;01mValueError\u001b[39;00m(\u001b[38;5;124m\"\u001b[39m\u001b[38;5;124mUnknown test \u001b[39m\u001b[38;5;132;01m{}\u001b[39;00m\u001b[38;5;124m\"\u001b[39m\u001b[38;5;241m.\u001b[39mformat(test))\n\u001b[1;32m---> 14\u001b[0m \u001b[38;5;28;01mraise\u001b[39;00m \u001b[38;5;167;01mValueError\u001b[39;00m(\u001b[38;5;124m\"\u001b[39m\u001b[38;5;124mUsage: \u001b[39m\u001b[38;5;132;01m{}\u001b[39;00m\u001b[38;5;124m <test> <student-id> (std|naive)\u001b[39m\u001b[38;5;124m\"\u001b[39m\u001b[38;5;241m.\u001b[39mformat(test))\n",
      "\u001b[1;31mValueError\u001b[0m: Usage: sequential <test> <student-id> (std|naive)"
     ]
    }
   ],
   "source": [
    "# Sequential Std\n",
    "test = \"sequential\"\n",
    "sid = 73\n",
    "implementation = \"std\"\n",
    "\n",
    "run_experiment(test, sid, implementation)"
   ]
  }
 ],
 "metadata": {
  "kernelspec": {
   "display_name": "Python 3 (ipykernel)",
   "language": "python",
   "name": "python3"
  },
  "language_info": {
   "codemirror_mode": {
    "name": "ipython",
    "version": 3
   },
   "file_extension": ".py",
   "mimetype": "text/x-python",
   "name": "python",
   "nbconvert_exporter": "python",
   "pygments_lexer": "ipython3",
   "version": "3.9.12"
  }
 },
 "nbformat": 4,
 "nbformat_minor": 2
}
